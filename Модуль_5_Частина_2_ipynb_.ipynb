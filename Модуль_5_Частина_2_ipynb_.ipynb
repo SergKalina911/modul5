{
  "nbformat": 4,
  "nbformat_minor": 0,
  "metadata": {
    "colab": {
      "provenance": []
    },
    "kernelspec": {
      "name": "python3",
      "display_name": "Python 3"
    },
    "language_info": {
      "name": "python"
    }
  },
  "cells": [
    {
      "cell_type": "markdown",
      "metadata": {
        "id": "OeHSz3_b5ehN"
      },
      "source": [
        "# Задачі для теоретичного заняття деcятого дня\n",
        "\n",
        "Задачі теоретичного блоку: продемонструвати на практичному прикладі теорію використання функцї, як об'єкту першого класу, області видимості, замикання, карування, декоратори, ітератори, генератори, ляибда-фуекції, map, filter\n",
        "\n",
        "Для самостійного опрацювання і спроб запускати всі існуючі задачі не заважаючи іншим студентам курсу потрібно здійснити наступні кроки:\n",
        "\n",
        "1. Натиснути кнопку \"Файл\" в лівому верхньому куті\n",
        "2. Вибрати пункт \"Зберегти копію на диску\"\n",
        "3. У вікні з вашою копією у правому верхньому куті натиснути \"Підключитись\"\n",
        "\n",
        "Можете запускати всі задачі, які забажаєте і писати власні програми вивчаючи функціонал цього середовища\n"
      ]
    },
    {
      "cell_type": "markdown",
      "source": [
        "## Функця, як об'єкту першого класу"
      ],
      "metadata": {
        "id": "gE1YdldOBB3L"
      }
    },
    {
      "cell_type": "markdown",
      "source": [
        "Сутність, що задовольняє переліченим вище вимогам, називається об'єктом першого класу (або об'єктом першого порядку).\n",
        "\n",
        "- може бути збережена у змінній або структурі даних;"
      ],
      "metadata": {
        "id": "CvU6VRxhJXkf"
      }
    },
    {
      "cell_type": "code",
      "source": [
        "def sum(a, b):\n",
        "    return a+b\n",
        "\n",
        "new_sum = sum\n",
        "\n",
        "print(new_sum(2, 3))"
      ],
      "metadata": {
        "id": "QsGrw-XpJC6C"
      },
      "execution_count": null,
      "outputs": []
    },
    {
      "cell_type": "markdown",
      "source": [
        "- може бути передана в іншу функцію як аргумент;"
      ],
      "metadata": {
        "id": "nf63kGfOJdIg"
      }
    },
    {
      "cell_type": "code",
      "source": [
        "def sum(a, b):\n",
        "    return a+b\n",
        "\n",
        "def operation(a, b, func):\n",
        "    return func(a, b)\n",
        "\n",
        "print(operation(5, 3, sum))"
      ],
      "metadata": {
        "id": "jJzzChkPJeeH"
      },
      "execution_count": null,
      "outputs": []
    },
    {
      "cell_type": "markdown",
      "source": [
        "- може бути повернута з функції як результат;"
      ],
      "metadata": {
        "id": "J1rIMHjmJemo"
      }
    },
    {
      "cell_type": "code",
      "source": [
        "def sum(a, b):\n",
        "    return a+b\n",
        "\n",
        "def minus(a, b):\n",
        "    return a-b\n",
        "\n",
        "def power(a):\n",
        "    return pow(a, 2)\n",
        "\n",
        "def operation(operator):\n",
        "    if operator == '+':\n",
        "        return sum\n",
        "    if operator == '-':\n",
        "        return minus\n",
        "    if operator == '*':\n",
        "        return power\n",
        "\n",
        "\n",
        "print(minus(7, 9))\n",
        "\n",
        "sum_func = operation('+')\n",
        "print(sum_func(9, pow(3, 2)))\n",
        "\n",
        "sum_func = operation('-')\n",
        "print(sum_func(9, 3))\n",
        "\n",
        "sum_func = operation('*')\n",
        "print(sum_func(9))"
      ],
      "metadata": {
        "id": "avY8GpcQJkB2"
      },
      "execution_count": null,
      "outputs": []
    },
    {
      "cell_type": "markdown",
      "source": [
        "## Замикання"
      ],
      "metadata": {
        "id": "YTvgXIcUJkHs"
      }
    },
    {
      "cell_type": "markdown",
      "source": [
        "Особливість існування вкладених локальних просторів імен і той факт, що вони створюються динамічно, дає змогу використовувати механізм замикань у Python."
      ],
      "metadata": {
        "id": "DR2jy4U8Jm8Z"
      }
    },
    {
      "cell_type": "code",
      "source": [
        "message = 'Goodbye'\n",
        "def outer_func(name):\n",
        "    message = 'Hello'\n",
        "    def inner_func(message, name):\n",
        "        return f'{message} {name}'\n",
        "    return inner_func(message, name)\n",
        "\n",
        "print(message)\n",
        "print(outer_func('Oleh'))"
      ],
      "metadata": {
        "id": "PH80VvAlJq4u"
      },
      "execution_count": null,
      "outputs": []
    },
    {
      "cell_type": "code",
      "source": [
        "def factorial(n, cache={}):\n",
        "    if n < 0:\n",
        "        raise ValueError\n",
        "\n",
        "    def counter(n):\n",
        "        result = 1\n",
        "        for value in range(1, n+1):\n",
        "            if value in cache:\n",
        "                result = cache[value]\n",
        "            else:\n",
        "                result = value * cache.get(value-1, 1)\n",
        "                cache[value] = result\n",
        "                print('{} not in cache {}'.format(value, result))\n",
        "        return result\n",
        "\n",
        "    return counter(n)\n",
        "\n",
        "print(factorial(3))\n",
        "print(factorial(6))\n",
        "print(factorial(4))"
      ],
      "metadata": {
        "id": "yIxjzYgxR9Jl"
      },
      "execution_count": null,
      "outputs": []
    },
    {
      "cell_type": "markdown",
      "source": [
        "## Карування"
      ],
      "metadata": {
        "id": "JqXQMXSFJu3W"
      }
    },
    {
      "cell_type": "markdown",
      "source": [
        "Карринг - це перетворення функції від багатьох аргументів на набір функцій, кожна з яких є функцією від одного аргументу. Ми можемо передати частину аргументів у функцію й отримати назад функцію, яка очікує на решту аргументів."
      ],
      "metadata": {
        "id": "GKTUxeH6J33G"
      }
    },
    {
      "cell_type": "code",
      "source": [
        "def greeting(variable, args):\n",
        "    print(f'Function greeting with variable {variable} {args}')\n",
        "\n",
        "greeting(\"Test\", \"Passed\")"
      ],
      "metadata": {
        "id": "B4zvigwNJu-J"
      },
      "execution_count": null,
      "outputs": []
    },
    {
      "cell_type": "code",
      "source": [
        "def outer_func(variable):\n",
        "    def inner_func(args):\n",
        "        print(f'Function greeting with variable {variable} {args}')\n",
        "    return inner_func\n",
        "\n",
        "currrying = outer_func('Test')\n",
        "\n",
        "currrying('Failed')\n",
        "currrying('Passed')\n"
      ],
      "metadata": {
        "id": "QgiBSrPPJ4rv"
      },
      "execution_count": null,
      "outputs": []
    },
    {
      "cell_type": "markdown",
      "source": [
        "Приклад відкладених обчислень"
      ],
      "metadata": {
        "id": "wzeYYnEYJ4yA"
      }
    },
    {
      "cell_type": "code",
      "source": [
        "def outer_func(value):\n",
        "    def inner_func(number):\n",
        "        return value * number\n",
        "    return inner_func\n",
        "\n",
        "\n",
        "multiply_five = outer_func(5)\n",
        "multiply_two = outer_func(2)\n",
        "\n",
        "print(multiply_five(5), multiply_five(10))\n",
        "print(multiply_two(7))"
      ],
      "metadata": {
        "id": "RR29LAMjKCuu"
      },
      "execution_count": null,
      "outputs": []
    },
    {
      "cell_type": "markdown",
      "source": [
        "## Декоратори"
      ],
      "metadata": {
        "id": "zqYAmFisKC13"
      }
    },
    {
      "cell_type": "markdown",
      "source": [
        "Шаблон проєктування, який полягає в тому, щоб розширювати наявний функціонал, не вносячи змін до коду цього самого функціоналу."
      ],
      "metadata": {
        "id": "cpajb83JKEmv"
      }
    },
    {
      "cell_type": "code",
      "source": [
        "def greeting(variable):\n",
        "    print(f'Function greeting with variable {variable}')\n",
        "greeting('Bob')\n",
        "\n",
        "def bot(func):\n",
        "    def inner_func(*args, **kwargs):\n",
        "        print('Hello')\n",
        "        result = func(*args, **kwargs)\n",
        "        print('Goodbye')\n",
        "        return result\n",
        "    return inner_func\n",
        "\n",
        "bot_says = bot(greeting)\n",
        "bot_says('TEST')"
      ],
      "metadata": {
        "id": "AWtbmMzsKEuv"
      },
      "execution_count": null,
      "outputs": []
    },
    {
      "cell_type": "markdown",
      "source": [
        "Приклад без `*args, **kwargs` щоб краще розумілося"
      ],
      "metadata": {
        "id": "ZVqCQa4wKI85"
      }
    },
    {
      "cell_type": "code",
      "source": [
        "def decorator(func):\n",
        "    def inner(arg_one, arg_two):\n",
        "        print('Hellooooo')\n",
        "        func(arg_one, arg_two)\n",
        "        print('Goodbyyyeeee')\n",
        "    return inner\n",
        "\n",
        "@decorator\n",
        "def full_name(name, surname):\n",
        "    print(f'My name is {name} {surname}')\n",
        "\n",
        "full_name('Oleh', 'Osadchuk')\n",
        "\n",
        "full_name('TEST', 'Osadchuk')\n",
        "# decorator(full_name('Oleh', 'Osadchuk'))\n"
      ],
      "metadata": {
        "id": "PidyIz84KN-v"
      },
      "execution_count": null,
      "outputs": []
    },
    {
      "cell_type": "markdown",
      "source": [
        "Декоратор із назвою"
      ],
      "metadata": {
        "id": "c5kzbhcOKXAj"
      }
    },
    {
      "cell_type": "code",
      "source": [
        "def outer(some_name):\n",
        "    def decorator(func):\n",
        "        def inner(*args, **kwargs):\n",
        "            print(f\"Decorator name {some_name}\")\n",
        "            return func(*args, **kwargs)\n",
        "        return inner\n",
        "    return decorator\n",
        "\n",
        "@outer('Check_controls')\n",
        "def adder(a, b):\n",
        "    return a+b\n",
        "\n",
        "print(adder(2, 5))"
      ],
      "metadata": {
        "id": "PQFtGms3KXQS"
      },
      "execution_count": null,
      "outputs": []
    },
    {
      "cell_type": "markdown",
      "source": [
        "## Як в загальному їх розрізняти"
      ],
      "metadata": {
        "id": "qz1qYWA0xhs9"
      }
    },
    {
      "cell_type": "code",
      "source": [
        "def outer_func(param): # Closure -> only parameters without functions\n",
        "  def inner_func(second_param):\n",
        "    return result\n",
        "  return inner_func()# function call\n",
        "\n",
        "def outer_func(param): # Currying -> only parameters without functions\n",
        "  def inner_func(second_param):\n",
        "    return result\n",
        "  return inner_func # function pointer call\n",
        "\n",
        "def outer_func(func): # Decorator -> functions and parameters to it\n",
        "  def inner_func(*args, **kwargs):\n",
        "    return result\n",
        "  return inner_func # function pointer call"
      ],
      "metadata": {
        "id": "Lu7uGvL8wgN0"
      },
      "execution_count": null,
      "outputs": []
    },
    {
      "cell_type": "markdown",
      "source": [
        "## Lambda функція"
      ],
      "metadata": {
        "id": "1qYodYW2v0OQ"
      }
    },
    {
      "cell_type": "code",
      "source": [
        "def number_sum(x, y):\n",
        "    return x + y\n",
        "\n",
        "sum = lambda x, y: x + y\n",
        "\n",
        "print(sum(2, 6))"
      ],
      "metadata": {
        "id": "Rr9RR5VXv0Wd"
      },
      "execution_count": null,
      "outputs": []
    },
    {
      "cell_type": "markdown",
      "source": [
        "## Map"
      ],
      "metadata": {
        "id": "rRbNZHUGv0dW"
      }
    },
    {
      "cell_type": "code",
      "source": [
        "names = ['oleh', 'carl', 'paul', 'candymen']\n",
        "\n",
        "normal_name = list(map(str.title, names))\n",
        "print(normal_name)"
      ],
      "metadata": {
        "id": "VgZ835R9v0kJ"
      },
      "execution_count": null,
      "outputs": []
    },
    {
      "cell_type": "code",
      "source": [
        "def number_sqr(value):\n",
        "    return pow(value, 2)\n",
        "\n",
        "square_number = list(map(number_sqr, [i for i in range(10)]))\n",
        "print(square_number)"
      ],
      "metadata": {
        "id": "st9qqCrowAnn"
      },
      "execution_count": null,
      "outputs": []
    },
    {
      "cell_type": "markdown",
      "source": [
        "## Filter"
      ],
      "metadata": {
        "id": "0lu_V4Dsv0qY"
      }
    },
    {
      "cell_type": "code",
      "source": [
        "values = [100, -3, 10, 0, -100, 33]\n",
        "\n",
        "positive_number = list(filter(lambda elem: elem > 0, values))\n",
        "print(positive_number)"
      ],
      "metadata": {
        "id": "5kyFBeuOv0w6"
      },
      "execution_count": null,
      "outputs": []
    },
    {
      "cell_type": "markdown",
      "source": [
        "Напишіть генератор, який повертає всі непарні квадрати від 0 до межі, використовуючи `filter`, `lambda` і `map`"
      ],
      "metadata": {
        "id": "w0b-Swc6wHgm"
      }
    },
    {
      "cell_type": "code",
      "source": [
        "def odd_squares(limit):\n",
        "    for value in range(limit):\n",
        "        if value % 2:\n",
        "            yield pow(value, 2)\n",
        "\n",
        "limit = 15\n",
        "\n",
        "get_value = filter(lambda value: bool(value % 2), map(lambda x: pow(x, 2), list(range(limit))))\n",
        "\n",
        "for result in zip(get_value, odd_squares(limit)):\n",
        "    print(result[0], result[1])"
      ],
      "metadata": {
        "id": "0YscZidLwH6g"
      },
      "execution_count": null,
      "outputs": []
    },
    {
      "cell_type": "markdown",
      "source": [
        "## Comprehension"
      ],
      "metadata": {
        "id": "4r9AfRNajKBV"
      }
    },
    {
      "cell_type": "code",
      "source": [
        "# List\n",
        "print([i for i in range(10)])\n",
        "print([pow(i, i) for i in range(10) if i % 2])\n",
        "\n",
        "# Dict\n",
        "print({i:pow(i, 2) for i in range(10)})\n",
        "\n",
        "# Set\n",
        "print({i for i in range(10)})"
      ],
      "metadata": {
        "id": "pPJ-rNx2jOXO"
      },
      "execution_count": null,
      "outputs": []
    }
  ]
}