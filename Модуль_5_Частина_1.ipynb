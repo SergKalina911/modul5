{
  "nbformat": 4,
  "nbformat_minor": 0,
  "metadata": {
    "colab": {
      "provenance": []
    },
    "kernelspec": {
      "name": "python3",
      "display_name": "Python 3"
    },
    "language_info": {
      "name": "python"
    }
  },
  "cells": [
    {
      "cell_type": "markdown",
      "metadata": {
        "id": "OeHSz3_b5ehN"
      },
      "source": [
        "# Задачі для заняття дев'ятого дня\n",
        "\n",
        "Для самостійного опрацювання і спроб запускати всі існуючі задачі не заважаючи іншим студентам курсу потрібно здійснити наступні кроки:\n",
        "\n",
        "1. Натиснути кнопку \"Файл\" в лівому верхньому куті\n",
        "2. Вибрати пункт \"Зберегти копію на диску\"\n",
        "3. У вікні з вашою копією у правому верхньому куті натиснути \"Підключитись\"\n",
        "\n",
        "Можете запускати всі задачі, які забажаєте і писати власні програми вивчаючи функціонал цього середовища"
      ]
    },
    {
      "cell_type": "markdown",
      "source": [
        "## Decimal Контроль точності обчислень"
      ],
      "metadata": {
        "id": "W44fwVcjDgWH"
      }
    },
    {
      "cell_type": "markdown",
      "source": [
        "### Необхідність використання"
      ],
      "metadata": {
        "id": "xAISePv3F92f"
      }
    },
    {
      "cell_type": "code",
      "source": [
        "from decimal import Decimal\n",
        "\n",
        "first_value = 0.2 + 0.1 + 0.3 - 0.5\n",
        "print(first_value)\n",
        "\n",
        "second_value = Decimal('0.2') + Decimal('0.1') + Decimal('0.3') - Decimal('0.5')\n",
        "print(second_value)"
      ],
      "metadata": {
        "id": "L_a-nm-pDtKq"
      },
      "execution_count": null,
      "outputs": []
    },
    {
      "cell_type": "markdown",
      "source": [
        "### Налаштування точності"
      ],
      "metadata": {
        "id": "Wa4YWYsFc1Et"
      }
    },
    {
      "cell_type": "code",
      "source": [
        "from decimal import Decimal, getcontext\n",
        "\n",
        "value = Decimal('2')/Decimal('3')\n",
        "print(value)\n",
        "\n",
        "print(round(2/3, 5))\n",
        "\n",
        "getcontext().prec = 5\n",
        "second_value = Decimal('2')/Decimal('3')\n",
        "print(second_value)\n",
        "\n",
        "additional_value = Decimal('1')/Decimal('3')\n",
        "print(additional_value)\n",
        "\n",
        "additional_value = Decimal('14')/Decimal('3')\n",
        "print(additional_value)\n",
        "\n",
        "additional_value = Decimal('140_000')/Decimal('3')\n",
        "print(additional_value)"
      ],
      "metadata": {
        "id": "FYyWloTdc1K4"
      },
      "execution_count": null,
      "outputs": []
    },
    {
      "cell_type": "markdown",
      "source": [
        "### Округлення чисел\n",
        "\n",
        "Об'єкти `Decimal` мають метод `quantize`, який дає змогу округляти числа.\n",
        "\n",
        "Згідно з офіційною документацією Python, ось що робить кожен із цих режимів:\n",
        "\n",
        "- `ROUND_FLOOR`: число округляється до від'ємної нескінченності.\n",
        "- `ROUND_CEILING`: число округляється до нескінченності або позитивної нескінченності.\n",
        "- `ROUND_HALF_DOWN`: числа округлюються до найближчого числа. Якщо є нічия, число округляється до нуля. Зв'язки - це рівновіддалені числа, які можна округляти як у більший, так і в менший бік. Наприклад, таке число, як 4,25, можна округлити як у бік 4,2, так і 4,3.\n",
        "- `ROUND_HALF_UP`: числа округлюються до найближчого числа. Якщо є нічия, число округляється від нуля.\n",
        "- `ROUND_UP`: число округляється від нуля.\n",
        "- `ROUND_DOWN`: число округляється до нуля.\n",
        "- `ROUND_HALF_EVEN`: числа округлюються до найближчого числа. Будь-які зв'язки округлюються до найближчого парного цілого числа.\n",
        "- `ROUND_05UP`: числа округлюються від нуля, якщо останнє число дорівнює 0 або 5. Якщо ні, то числа округлюються до нуля.\n",
        "\n",
        "За замовчуванням округлення описується константою `ROUND_HALF_EVEN`"
      ],
      "metadata": {
        "id": "fA-EbvJzc49z"
      }
    },
    {
      "cell_type": "code",
      "source": [
        "from decimal import Decimal, ROUND_HALF_UP, ROUND_HALF_EVEN\n",
        "\n",
        "number = Decimal('1.45')\n",
        "print(number.quantize(Decimal('1.0'), rounding=ROUND_HALF_EVEN))\n",
        "print(number.quantize(Decimal('1.0'), rounding=ROUND_HALF_UP))\n",
        "print(Decimal('3.145678934').quantize(Decimal('1.000000')))"
      ],
      "metadata": {
        "id": "98enyXcGc7uw"
      },
      "execution_count": null,
      "outputs": []
    },
    {
      "cell_type": "markdown",
      "source": [
        "### Створення `Decimal` з дійсних чисел"
      ],
      "metadata": {
        "id": "kYih7I-6c__O"
      }
    },
    {
      "cell_type": "code",
      "source": [
        "from decimal import Decimal\n",
        "\n",
        "number_one = 1.37\n",
        "number_two = 1.5\n",
        "\n",
        "first = Decimal.from_float(number_one)\n",
        "print(first)\n",
        "\n",
        "second = Decimal.from_float(number_two)\n",
        "print(second)"
      ],
      "metadata": {
        "id": "T5MTVoRedBYi"
      },
      "execution_count": null,
      "outputs": []
    },
    {
      "cell_type": "code",
      "source": [
        "from decimal import Decimal\n",
        "\n",
        "number_one = 1.37\n",
        "number_two = 1.5\n",
        "\n",
        "first = Decimal(str(number_one))\n",
        "print(first)\n",
        "\n",
        "second = Decimal(str(number_two))\n",
        "print(second)"
      ],
      "metadata": {
        "id": "HDR5s1FpdCy4"
      },
      "execution_count": null,
      "outputs": []
    },
    {
      "cell_type": "markdown",
      "source": [
        "## Генератори як функція з \"yield\""
      ],
      "metadata": {
        "id": "Wrseila85zWe"
      }
    },
    {
      "cell_type": "code",
      "source": [
        "squares_comp = (i**2 for i in range(10))\n",
        "print(squares_comp)\n",
        "\n",
        "# for i in squares_comp:\n",
        "#     print(i)\n",
        "\n",
        "for _ in range(10):\n",
        "    print(next(squares_comp))\n",
        "\n",
        "next(squares_comp) # StopIteration"
      ],
      "metadata": {
        "id": "nSCx4hPC4x-O"
      },
      "execution_count": null,
      "outputs": []
    },
    {
      "cell_type": "code",
      "source": [
        "def eight_bit_counter():\n",
        "    value = 0\n",
        "    while True:\n",
        "        yield value\n",
        "        value += 1\n",
        "\n",
        "my_generator = eight_bit_counter()\n",
        "for _ in range(6):\n",
        "    print(next(my_generator))"
      ],
      "metadata": {
        "id": "_F_MbDAO5zfN"
      },
      "execution_count": null,
      "outputs": []
    },
    {
      "cell_type": "code",
      "source": [
        "def first_second_counter():\n",
        "    while True:\n",
        "        yield 1\n",
        "        yield 2\n",
        "\n",
        "my_generator = first_second_counter()\n",
        "for _ in range(6):\n",
        "    print(next(my_generator))"
      ],
      "metadata": {
        "id": "jWcI6pOj8Fq_"
      },
      "execution_count": null,
      "outputs": []
    },
    {
      "cell_type": "code",
      "source": [
        "def limited_generator(limit):\n",
        "    value = 0\n",
        "    while value < limit:\n",
        "        yield value\n",
        "        value += 1\n",
        "\n",
        "for i in limited_generator(6):\n",
        "    print(i)"
      ],
      "metadata": {
        "id": "UdiM0vIk8HEp"
      },
      "execution_count": null,
      "outputs": []
    },
    {
      "cell_type": "markdown",
      "source": [
        "## Collections"
      ],
      "metadata": {
        "id": "Bn5DB4puD2aW"
      }
    },
    {
      "cell_type": "markdown",
      "source": [
        "### Counter"
      ],
      "metadata": {
        "id": "Sx2OLmKOGPAu"
      }
    },
    {
      "cell_type": "markdown",
      "source": [
        "Реалізувати функцію, яка повертає `n` числа, що зустрічаються найчастіше\n",
        "і `n` чисел, що найменш часто зустрічаються, з файлу\n",
        "\n",
        "Посилання на файл [numbers.txt](https://drive.google.com/file/d/15kDxDZ8zy5qpvRxQpaL5sZ4xm-S-uRxt/view?usp=sharing)"
      ],
      "metadata": {
        "id": "7vLrAcdwGPPR"
      }
    },
    {
      "cell_type": "code",
      "source": [
        "from collections import Counter\n",
        "\n",
        "def num_counter(filename, n):\n",
        "    with open(filename, 'r') as file:\n",
        "        data = file.read()\n",
        "    data_updated = [int(i) for i in data.split(',')]\n",
        "    counter = Counter(data_updated)\n",
        "    print(counter)\n",
        "    order = counter.most_common(len(counter))\n",
        "    return order[:n], order[-n:]\n",
        "\n",
        "most, least = num_counter('numbers.txt', 5)\n",
        "print(f\"Most {most} \\nLeast {least}\")"
      ],
      "metadata": {
        "id": "440VeNTsD5IQ"
      },
      "execution_count": null,
      "outputs": []
    },
    {
      "cell_type": "markdown",
      "source": [
        "### namedtuple"
      ],
      "metadata": {
        "id": "WZ5_GCDqD8gH"
      }
    },
    {
      "cell_type": "code",
      "source": [
        "from collections import namedtuple\n",
        "\n",
        "cat_info = namedtuple('Cat', ['nickname', 'age', 'owner'])\n",
        "bobs_cat = cat_info('Alex', 2, 'Bob')\n",
        "\n",
        "print(bobs_cat)\n",
        "print(bobs_cat.nickname)"
      ],
      "metadata": {
        "id": "cMpCxNYhECEJ"
      },
      "execution_count": null,
      "outputs": []
    },
    {
      "cell_type": "code",
      "source": [
        "from collections import namedtuple\n",
        "\n",
        "rgb = namedtuple('RGB', ['red', 'green', 'blue'])\n",
        "black = rgb(0, 0, 0)\n",
        "indigo = rgb(0, 65, 106)\n",
        "ocean_wave = rgb(143, 201, 184)\n",
        "\n",
        "\n",
        "print(ocean_wave.red, indigo.blue)\n",
        "print(indigo.green - ocean_wave.green)"
      ],
      "metadata": {
        "id": "Wm4_qlM-7JJj"
      },
      "execution_count": null,
      "outputs": []
    },
    {
      "cell_type": "markdown",
      "source": [
        "### defaultdict"
      ],
      "metadata": {
        "id": "SNbhsk61ELQj"
      }
    },
    {
      "cell_type": "markdown",
      "source": [
        "Зручно якщо ми розбиваємо на різні списки набори телефонних операторів"
      ],
      "metadata": {
        "id": "C4Z82cKvG5Dx"
      }
    },
    {
      "cell_type": "code",
      "source": [
        "from collections import defaultdict\n",
        "\n",
        "phone_numbers = ['0509993636', '0679993636', '0959993636', '0969993636', '0509993637', '0639993636', '0509993632', '0339993632']\n",
        "\n",
        "phone_operators_number = defaultdict(list)\n",
        "\n",
        "for phone in phone_numbers:\n",
        "    if phone.startswith('050') or phone.startswith('095'):\n",
        "        phone_operators_number['Vodafone'].append(phone)\n",
        "    elif phone.startswith('067') or phone.startswith('096'):\n",
        "        phone_operators_number['Kyivstar'].append(phone)\n",
        "    elif phone.startswith('063') or phone.startswith('093'):\n",
        "        phone_operators_number['Lifecell'].append(phone)\n",
        "    else:\n",
        "        phone_operators_number['Other_operators'].append(phone)\n",
        "\n",
        "print(phone_operators_number)\n",
        "print(phone_operators_number.get('Kyivstar'))\n",
        "print(phone_operators_number.get('Kyivstars'))\n",
        "print(phone_operators_number)"
      ],
      "metadata": {
        "id": "AEczSIO9G6Hz"
      },
      "execution_count": null,
      "outputs": []
    },
    {
      "cell_type": "markdown",
      "source": [
        "### deque\n"
      ],
      "metadata": {
        "id": "GlGfkr1aBYAX"
      }
    },
    {
      "cell_type": "markdown",
      "source": [
        "LIFO (англ. last in, first out, \"останнім прийшов - першим пішов\") - спосіб організації даних або іншими словами Стек (Stack). У структурованому лінійному списку, організованому за принципом LIFO, елементи можна додавати та обирати тільки з одного кінця, який називається \"вершиною списку\"."
      ],
      "metadata": {
        "id": "nCe3eihcHA0I"
      }
    },
    {
      "cell_type": "code",
      "source": [
        "# Створення стеку\n",
        "def create_stack():\n",
        "    return []\n",
        "\n",
        "# Перевірка на порожнечу\n",
        "def is_empty(stack):\n",
        "    return len(stack) == 0\n",
        "\n",
        "# Додавання елементу\n",
        "def push(stack, item):\n",
        "    stack.append(item)\n",
        "\n",
        "# Вилучення елементу\n",
        "def pop(stack):\n",
        "    if not is_empty(stack):\n",
        "        return stack.pop()\n",
        "    else:\n",
        "        print(\"Стек порожній\")\n",
        "\n",
        "# Перегляд верхнього елемента\n",
        "def peek(stack):\n",
        "    if not is_empty(stack):\n",
        "        return stack[-1]\n",
        "    else:\n",
        "        print(\"Стек порожній\")\n"
      ],
      "metadata": {
        "id": "Q7LqruqqHBIi"
      },
      "execution_count": null,
      "outputs": []
    },
    {
      "cell_type": "markdown",
      "source": [
        "FIFO (англ. first in, first out - \"першим прийшов - першим пішов\") - спосіб організації даних або іншими словами черга. Цей вираз описує принцип технічної обробки черги або обслуговування конфліктних вимог шляхом упорядкування процесу за принципом: \"першим прийшов - першим обслужений\" (ПППО). Той, хто приходить першим, той і обслуговується першим, той, хто прийшов наступним, чекає, поки обслуговування першого не буде закінчено, і так далі."
      ],
      "metadata": {
        "id": "P8EF8ht5HBPU"
      }
    },
    {
      "cell_type": "code",
      "source": [
        "from collections import deque\n",
        "\n",
        "# Створення черги\n",
        "queue = deque()\n",
        "\n",
        "# Enqueue: Додавання елементів\n",
        "queue.append('a')\n",
        "queue.append('b')\n",
        "queue.append('c')\n",
        "\n",
        "print(\"Черга після додавання елементів:\", list(queue)) # ['a', 'b', 'c']\n",
        "\n",
        "# Dequeue: Видалення елемента\n",
        "print(\"Видалений елемент:\", queue.popleft())\n",
        "\n",
        "print(\"Черга після видалення елемента:\", list(queue)) # ['b', 'c']\n",
        "\n",
        "# Peek: Перегляд першого елемента\n",
        "print(\"Перший елемент у черзі:\", queue[0]) # ['b']\n",
        "\n",
        "# IsEmpty: Перевірка на порожнечу\n",
        "print(\"Чи черга порожня:\", len(queue) == 0) # False\n",
        "\n",
        "# Size: Розмір черги\n",
        "print(\"Розмір черги:\", len(queue)) # 2\n"
      ],
      "metadata": {
        "id": "_LsUK-FeHBVs"
      },
      "execution_count": null,
      "outputs": []
    }
  ]
}